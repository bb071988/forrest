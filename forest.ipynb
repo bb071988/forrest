{
 "cells": [
  {
   "cell_type": "code",
   "execution_count": 1,
   "metadata": {
    "collapsed": true
   },
   "outputs": [],
   "source": [
    "%matplotlib inline"
   ]
  },
  {
   "cell_type": "code",
   "execution_count": 2,
   "metadata": {
    "collapsed": true
   },
   "outputs": [],
   "source": [
    "import pandas as pd\n",
    "import numpy as np\n",
    "from sklearn.ensemble import RandomForestClassifier\n",
    "import os\n",
    "from sklearn.model_selection import KFold, cross_val_score"
   ]
  },
  {
   "cell_type": "code",
   "execution_count": 3,
   "metadata": {
    "collapsed": true
   },
   "outputs": [],
   "source": [
    "def fix_col_name(col_split):\n",
    "        new_string = col_split[1].replace('(','')\n",
    "        new_string = new_string.replace(')','')\n",
    "        new_string = new_string.replace(',','-')\n",
    "        new_string = new_string.replace('BodyBody','Body')\n",
    "        new_string = new_string.replace('Body','')\n",
    "        new_string = new_string.replace('Mag','')\n",
    "        new_string = new_string.replace('mean','Mean')\n",
    "        new_string = new_string.replace('std','STD')\n",
    "        return(new_string)"
   ]
  },
  {
   "cell_type": "code",
   "execution_count": 4,
   "metadata": {
    "collapsed": true
   },
   "outputs": [],
   "source": [
    "def get_data(col_list):\n",
    "    # reads file into df.  Modify to pass location for train and test.\n",
    "    cwd = os.getcwd()\n",
    "\n",
    "    test_file = os.path.normpath(cwd + '/test/X_test.txt')\n",
    "\n",
    "    dftest = pd.read_table(test_file, header = None, delim_whitespace=True, names = col_list)\n",
    "\n",
    "    train_file = os.path.normpath(cwd + '/train/X_train.txt')\n",
    "\n",
    "    dftrain = pd.read_table(train_file, header = None, delim_whitespace=True, names = col_list)\n",
    "\n",
    "    # df.append(df2)\n",
    "    xdata = dftest.append(dftrain)\n",
    "    \n",
    "    # get y data\n",
    "    test_file = os.path.normpath(cwd + '/test/y_test.txt')\n",
    "\n",
    "    dftest = pd.read_table(test_file, header = None, delim_whitespace=True, names = ['activity'])\n",
    "\n",
    "    train_file = os.path.normpath(cwd + '/train/y_train.txt')\n",
    "\n",
    "    dftrain = pd.read_table(train_file, header = None, delim_whitespace=True, names = ['activity'])\n",
    "    ydata = dftest.append(dftrain)\n",
    "    \n",
    "    return(xdata, ydata)"
   ]
  },
  {
   "cell_type": "code",
   "execution_count": 5,
   "metadata": {
    "collapsed": true
   },
   "outputs": [],
   "source": [
    "def trans_columns():\n",
    "    ###  get's column names from feature_file should be same for train and test data.  Can use same col_list\n",
    "    col_list =[]\n",
    "    x = 0\n",
    "    with open('features.txt','r+') as feature_file:\n",
    "        for line in feature_file: # one line is one column\n",
    "    #         print(line)\n",
    "            col_split = line.split() # splits the numbers and characters from the column into seperate fields to work with\n",
    "    #         print(col_split)\n",
    "            new_col = fix_col_name(col_split)\n",
    "    #         print(new_col)\n",
    "            col_list.append(col_split[0] + new_col)\n",
    "    #     col_list = remove_dups(col_list)\n",
    "    #         break # stop at one record\n",
    "    return(col_list)\n"
   ]
  },
  {
   "cell_type": "code",
   "execution_count": 6,
   "metadata": {},
   "outputs": [],
   "source": [
    "def drop_columns(df):\n",
    "    drop_list = ['angle','band']\n",
    "    for col in df.columns.values:\n",
    "        for item in drop_list:\n",
    "            test = col.find(item) # returns -1 if item not found\n",
    "            #print(\"col is {} and item is {} and test is {}\".format(col,item, test))\n",
    "    #         print(\"test val = {}\".format(test))\n",
    "            if test == -1:\n",
    "                pass\n",
    "                #print(\"keeping these = find value {} --- finding {} column value {}\".format(test,item, col))\n",
    "\n",
    "            else:\n",
    "                #print(\"droping these = find value {} --- finding {} column value {}\".format(test,item, col))\n",
    "                df.drop(col, axis = 1, inplace = True)\n",
    "    #             new_cols.remove(col) # useful to keep track of new list of columns in new df - could just use df.column.values though\n",
    "                break # if its in the drop list drop and stop looking\n",
    "    return(df)\n"
   ]
  },
  {
   "cell_type": "code",
   "execution_count": 7,
   "metadata": {
    "collapsed": true
   },
   "outputs": [],
   "source": [
    "def get_accuracy(preds,targetvalues):\n",
    "    acc1 = preds - targetvalues # subtract the arrays - take advantage of broadcasting\n",
    "    acc2 = np.count_nonzero(acc1) # get the nonzero values - where the model is wrong\n",
    "    acc3 = 1.000 * (len(acc1) - acc2) / len(acc1) # Number right over total * 1.000 to convert to float\n",
    "    return(acc3)"
   ]
  },
  {
   "cell_type": "code",
   "execution_count": 8,
   "metadata": {},
   "outputs": [],
   "source": [
    "# run the helper functions\n",
    "\n",
    "# get the columns and clean them up\n",
    "col_list = trans_columns()\n",
    "\n",
    "# concatenate the test and train data sets\n",
    "xdata, ydata = get_data(col_list)\n",
    "xdata = drop_columns(xdata)\n"
   ]
  },
  {
   "cell_type": "code",
   "execution_count": 9,
   "metadata": {},
   "outputs": [
    {
     "name": "stdout",
     "output_type": "stream",
     "text": [
      "Accuracy percentage is: 0.9650485436893204\n",
      "Accuracy percentage is: 0.9658252427184466\n",
      "Accuracy percentage is: 0.9669902912621359\n",
      "Accuracy percentage is: 0.9673659673659674\n"
     ]
    }
   ],
   "source": [
    "# train and test the model using kfolds\n",
    "\n",
    "kf = KFold(n_splits = 4, random_state = 88 , shuffle = True)\n",
    "for train_index, test_index in kf.split(xdata):\n",
    "    \n",
    "    model = RandomForestClassifier(n_jobs=2)  # create clf model\n",
    "    model.fit(xdata.iloc[train_index], np.ndarray.ravel(np.array(ydata.iloc[train_index])))\n",
    "    preds = model.predict(xdata.iloc[test_index])\n",
    "    targetvalues = np.ndarray.ravel(np.array(ydata.iloc[test_index]))\n",
    "    \n",
    "    accuracy = get_accuracy(preds, targetvalues)\n",
    "\n",
    "    print('Accuracy percentage is: {}'.format(accuracy))\n",
    "    \n"
   ]
  },
  {
   "cell_type": "code",
   "execution_count": null,
   "metadata": {
    "collapsed": true
   },
   "outputs": [],
   "source": []
  },
  {
   "cell_type": "code",
   "execution_count": null,
   "metadata": {
    "collapsed": true
   },
   "outputs": [],
   "source": []
  }
 ],
 "metadata": {
  "kernelspec": {
   "display_name": "Python 3",
   "language": "python",
   "name": "python3"
  },
  "language_info": {
   "codemirror_mode": {
    "name": "ipython",
    "version": 3
   },
   "file_extension": ".py",
   "mimetype": "text/x-python",
   "name": "python",
   "nbconvert_exporter": "python",
   "pygments_lexer": "ipython3",
   "version": "3.6.1"
  }
 },
 "nbformat": 4,
 "nbformat_minor": 1
}
